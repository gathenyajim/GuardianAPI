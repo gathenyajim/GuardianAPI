{
 "cells": [
  {
   "cell_type": "code",
   "execution_count": null,
   "metadata": {},
   "outputs": [],
   "source": [
    "Using The Guardian API, this project compares the all the headlines about COVID between Australia and the UK \n",
    "in the first Quarter of 2021."
   ]
  },
  {
   "cell_type": "code",
   "execution_count": 3,
   "metadata": {},
   "outputs": [],
   "source": [
    "# import libraries for this question here\n",
    "import requests\n",
    "import json\n",
    "from datetime import datetime\n",
    "import pandas as pd"
   ]
  },
  {
   "cell_type": "markdown",
   "metadata": {},
   "source": [
    "### 2.2 Data"
   ]
  },
  {
   "cell_type": "code",
   "execution_count": 4,
   "metadata": {},
   "outputs": [
    {
     "data": {
      "text/html": [
       "<div>\n",
       "<style scoped>\n",
       "    .dataframe tbody tr th:only-of-type {\n",
       "        vertical-align: middle;\n",
       "    }\n",
       "\n",
       "    .dataframe tbody tr th {\n",
       "        vertical-align: top;\n",
       "    }\n",
       "\n",
       "    .dataframe thead th {\n",
       "        text-align: right;\n",
       "    }\n",
       "</style>\n",
       "<table border=\"1\" class=\"dataframe\">\n",
       "  <thead>\n",
       "    <tr style=\"text-align: right;\">\n",
       "      <th></th>\n",
       "      <th>id</th>\n",
       "      <th>type</th>\n",
       "      <th>sectionId</th>\n",
       "      <th>sectionName</th>\n",
       "      <th>webPublicationDate</th>\n",
       "      <th>webTitle</th>\n",
       "      <th>webUrl</th>\n",
       "      <th>apiUrl</th>\n",
       "      <th>isHosted</th>\n",
       "      <th>pillarId</th>\n",
       "      <th>pillarName</th>\n",
       "    </tr>\n",
       "  </thead>\n",
       "  <tbody>\n",
       "    <tr>\n",
       "      <th>0</th>\n",
       "      <td>environment/2021/mar/10/deadly-pig-disease-cou...</td>\n",
       "      <td>article</td>\n",
       "      <td>environment</td>\n",
       "      <td>Environment</td>\n",
       "      <td>2021-03-10T07:15:18Z</td>\n",
       "      <td>Deadly pig disease could have led to Covid spi...</td>\n",
       "      <td>https://www.theguardian.com/environment/2021/m...</td>\n",
       "      <td>https://content.guardianapis.com/environment/2...</td>\n",
       "      <td>False</td>\n",
       "      <td>pillar/news</td>\n",
       "      <td>News</td>\n",
       "    </tr>\n",
       "    <tr>\n",
       "      <th>1</th>\n",
       "      <td>commentisfree/2021/feb/14/is-covid-more-deadly...</td>\n",
       "      <td>article</td>\n",
       "      <td>theobserver</td>\n",
       "      <td>From the Observer</td>\n",
       "      <td>2021-02-14T07:15:35Z</td>\n",
       "      <td>Is Covid more deadly and contagious than seaso...</td>\n",
       "      <td>https://www.theguardian.com/commentisfree/2021...</td>\n",
       "      <td>https://content.guardianapis.com/commentisfree...</td>\n",
       "      <td>False</td>\n",
       "      <td>pillar/news</td>\n",
       "      <td>News</td>\n",
       "    </tr>\n",
       "    <tr>\n",
       "      <th>2</th>\n",
       "      <td>world/2021/apr/01/almost-third-of-uk-covid-hos...</td>\n",
       "      <td>article</td>\n",
       "      <td>world</td>\n",
       "      <td>World news</td>\n",
       "      <td>2021-04-01T05:00:04Z</td>\n",
       "      <td>Almost third of UK Covid hospital patients rea...</td>\n",
       "      <td>https://www.theguardian.com/world/2021/apr/01/...</td>\n",
       "      <td>https://content.guardianapis.com/world/2021/ap...</td>\n",
       "      <td>False</td>\n",
       "      <td>pillar/news</td>\n",
       "      <td>News</td>\n",
       "    </tr>\n",
       "    <tr>\n",
       "      <th>3</th>\n",
       "      <td>world/2021/mar/11/israeli-real-world-data-on-p...</td>\n",
       "      <td>article</td>\n",
       "      <td>world</td>\n",
       "      <td>World news</td>\n",
       "      <td>2021-03-11T15:02:08Z</td>\n",
       "      <td>Israeli real-world data on Pfizer vaccine show...</td>\n",
       "      <td>https://www.theguardian.com/world/2021/mar/11/...</td>\n",
       "      <td>https://content.guardianapis.com/world/2021/ma...</td>\n",
       "      <td>False</td>\n",
       "      <td>pillar/news</td>\n",
       "      <td>News</td>\n",
       "    </tr>\n",
       "    <tr>\n",
       "      <th>4</th>\n",
       "      <td>world/2021/apr/15/garlic-breath-distancing-exp...</td>\n",
       "      <td>article</td>\n",
       "      <td>world</td>\n",
       "      <td>World news</td>\n",
       "      <td>2021-04-15T09:46:08Z</td>\n",
       "      <td>Use ‘garlic-breath distancing’ to stay Covid-s...</td>\n",
       "      <td>https://www.theguardian.com/world/2021/apr/15/...</td>\n",
       "      <td>https://content.guardianapis.com/world/2021/ap...</td>\n",
       "      <td>False</td>\n",
       "      <td>pillar/news</td>\n",
       "      <td>News</td>\n",
       "    </tr>\n",
       "    <tr>\n",
       "      <th>5</th>\n",
       "      <td>science/2021/mar/21/vets-warn-new-covid-varian...</td>\n",
       "      <td>article</td>\n",
       "      <td>science</td>\n",
       "      <td>Science</td>\n",
       "      <td>2021-03-21T12:58:54Z</td>\n",
       "      <td>Vets warn of new Covid variant’s possible link...</td>\n",
       "      <td>https://www.theguardian.com/science/2021/mar/2...</td>\n",
       "      <td>https://content.guardianapis.com/science/2021/...</td>\n",
       "      <td>False</td>\n",
       "      <td>pillar/news</td>\n",
       "      <td>News</td>\n",
       "    </tr>\n",
       "    <tr>\n",
       "      <th>6</th>\n",
       "      <td>commentisfree/2021/feb/08/the-guardian-view-on...</td>\n",
       "      <td>article</td>\n",
       "      <td>commentisfree</td>\n",
       "      <td>Opinion</td>\n",
       "      <td>2021-02-08T19:23:02Z</td>\n",
       "      <td>The Guardian view on coexisting with Covid: ne...</td>\n",
       "      <td>https://www.theguardian.com/commentisfree/2021...</td>\n",
       "      <td>https://content.guardianapis.com/commentisfree...</td>\n",
       "      <td>False</td>\n",
       "      <td>pillar/opinion</td>\n",
       "      <td>Opinion</td>\n",
       "    </tr>\n",
       "    <tr>\n",
       "      <th>7</th>\n",
       "      <td>world/2021/feb/04/test-and-trace-must-be-led-b...</td>\n",
       "      <td>article</td>\n",
       "      <td>world</td>\n",
       "      <td>World news</td>\n",
       "      <td>2021-02-04T18:30:38Z</td>\n",
       "      <td>Test and trace must be led by experts | Letter</td>\n",
       "      <td>https://www.theguardian.com/world/2021/feb/04/...</td>\n",
       "      <td>https://content.guardianapis.com/world/2021/fe...</td>\n",
       "      <td>False</td>\n",
       "      <td>pillar/news</td>\n",
       "      <td>News</td>\n",
       "    </tr>\n",
       "    <tr>\n",
       "      <th>8</th>\n",
       "      <td>environment/2021/feb/18/mink-farms-a-continuin...</td>\n",
       "      <td>article</td>\n",
       "      <td>environment</td>\n",
       "      <td>Environment</td>\n",
       "      <td>2021-02-18T10:00:30Z</td>\n",
       "      <td>Mink farms a continuing Covid risk to humans a...</td>\n",
       "      <td>https://www.theguardian.com/environment/2021/f...</td>\n",
       "      <td>https://content.guardianapis.com/environment/2...</td>\n",
       "      <td>False</td>\n",
       "      <td>pillar/news</td>\n",
       "      <td>News</td>\n",
       "    </tr>\n",
       "    <tr>\n",
       "      <th>9</th>\n",
       "      <td>world/2021/mar/19/doctors-suggest-link-between...</td>\n",
       "      <td>article</td>\n",
       "      <td>world</td>\n",
       "      <td>World news</td>\n",
       "      <td>2021-03-19T08:15:27Z</td>\n",
       "      <td>Doctors suggest Covid-19 could cause diabetes</td>\n",
       "      <td>https://www.theguardian.com/world/2021/mar/19/...</td>\n",
       "      <td>https://content.guardianapis.com/world/2021/ma...</td>\n",
       "      <td>False</td>\n",
       "      <td>pillar/news</td>\n",
       "      <td>News</td>\n",
       "    </tr>\n",
       "  </tbody>\n",
       "</table>\n",
       "</div>"
      ],
      "text/plain": [
       "                                                  id     type      sectionId  \\\n",
       "0  environment/2021/mar/10/deadly-pig-disease-cou...  article    environment   \n",
       "1  commentisfree/2021/feb/14/is-covid-more-deadly...  article    theobserver   \n",
       "2  world/2021/apr/01/almost-third-of-uk-covid-hos...  article          world   \n",
       "3  world/2021/mar/11/israeli-real-world-data-on-p...  article          world   \n",
       "4  world/2021/apr/15/garlic-breath-distancing-exp...  article          world   \n",
       "5  science/2021/mar/21/vets-warn-new-covid-varian...  article        science   \n",
       "6  commentisfree/2021/feb/08/the-guardian-view-on...  article  commentisfree   \n",
       "7  world/2021/feb/04/test-and-trace-must-be-led-b...  article          world   \n",
       "8  environment/2021/feb/18/mink-farms-a-continuin...  article    environment   \n",
       "9  world/2021/mar/19/doctors-suggest-link-between...  article          world   \n",
       "\n",
       "         sectionName    webPublicationDate  \\\n",
       "0        Environment  2021-03-10T07:15:18Z   \n",
       "1  From the Observer  2021-02-14T07:15:35Z   \n",
       "2         World news  2021-04-01T05:00:04Z   \n",
       "3         World news  2021-03-11T15:02:08Z   \n",
       "4         World news  2021-04-15T09:46:08Z   \n",
       "5            Science  2021-03-21T12:58:54Z   \n",
       "6            Opinion  2021-02-08T19:23:02Z   \n",
       "7         World news  2021-02-04T18:30:38Z   \n",
       "8        Environment  2021-02-18T10:00:30Z   \n",
       "9         World news  2021-03-19T08:15:27Z   \n",
       "\n",
       "                                            webTitle  \\\n",
       "0  Deadly pig disease could have led to Covid spi...   \n",
       "1  Is Covid more deadly and contagious than seaso...   \n",
       "2  Almost third of UK Covid hospital patients rea...   \n",
       "3  Israeli real-world data on Pfizer vaccine show...   \n",
       "4  Use ‘garlic-breath distancing’ to stay Covid-s...   \n",
       "5  Vets warn of new Covid variant’s possible link...   \n",
       "6  The Guardian view on coexisting with Covid: ne...   \n",
       "7     Test and trace must be led by experts | Letter   \n",
       "8  Mink farms a continuing Covid risk to humans a...   \n",
       "9      Doctors suggest Covid-19 could cause diabetes   \n",
       "\n",
       "                                              webUrl  \\\n",
       "0  https://www.theguardian.com/environment/2021/m...   \n",
       "1  https://www.theguardian.com/commentisfree/2021...   \n",
       "2  https://www.theguardian.com/world/2021/apr/01/...   \n",
       "3  https://www.theguardian.com/world/2021/mar/11/...   \n",
       "4  https://www.theguardian.com/world/2021/apr/15/...   \n",
       "5  https://www.theguardian.com/science/2021/mar/2...   \n",
       "6  https://www.theguardian.com/commentisfree/2021...   \n",
       "7  https://www.theguardian.com/world/2021/feb/04/...   \n",
       "8  https://www.theguardian.com/environment/2021/f...   \n",
       "9  https://www.theguardian.com/world/2021/mar/19/...   \n",
       "\n",
       "                                              apiUrl  isHosted  \\\n",
       "0  https://content.guardianapis.com/environment/2...     False   \n",
       "1  https://content.guardianapis.com/commentisfree...     False   \n",
       "2  https://content.guardianapis.com/world/2021/ap...     False   \n",
       "3  https://content.guardianapis.com/world/2021/ma...     False   \n",
       "4  https://content.guardianapis.com/world/2021/ap...     False   \n",
       "5  https://content.guardianapis.com/science/2021/...     False   \n",
       "6  https://content.guardianapis.com/commentisfree...     False   \n",
       "7  https://content.guardianapis.com/world/2021/fe...     False   \n",
       "8  https://content.guardianapis.com/environment/2...     False   \n",
       "9  https://content.guardianapis.com/world/2021/ma...     False   \n",
       "\n",
       "         pillarId pillarName  \n",
       "0     pillar/news       News  \n",
       "1     pillar/news       News  \n",
       "2     pillar/news       News  \n",
       "3     pillar/news       News  \n",
       "4     pillar/news       News  \n",
       "5     pillar/news       News  \n",
       "6  pillar/opinion    Opinion  \n",
       "7     pillar/news       News  \n",
       "8     pillar/news       News  \n",
       "9     pillar/news       News  "
      ]
     },
     "execution_count": 4,
     "metadata": {},
     "output_type": "execute_result"
    }
   ],
   "source": [
    "# Access the data via API\n",
    "# Clean/prepare the data for analysis\n",
    "# url='https://content.guardianapis.com/search?production-office=UK&from-date=2021-01-01&q=sars-cov-2%20or%20covid&api-key=7543a311-cd3a-4e89-b3c9-05a1c027fe0e'\n",
    "url='https://content.guardianapis.com/search?production-office=UK&from-date=2021-01-01&q=sars-cov-2%20or%20covid&api-key=007143a4-82ab-4809-9ae9-a852824d1df6'\n",
    "\n",
    "df = pd.read_json(url)\n",
    "df_nested_list = pd.json_normalize(df['response']['results'])\n",
    "df_nested_list.head(10)"
   ]
  },
  {
   "cell_type": "markdown",
   "metadata": {},
   "source": [
    "### 2.3 Analysis"
   ]
  },
  {
   "cell_type": "code",
   "execution_count": 5,
   "metadata": {},
   "outputs": [],
   "source": [
    "# Analyse the data - ensure that you at least use the required technique\n",
    "appended_dataUK = []\n",
    "url='https://content.guardianapis.com/search?production-office=UK&from-date=2021-01-01&page=1&q=sars-cov-2%20or%20covid&api-key=7543a311-cd3a-4e89-b3c9-05a1c027fe0e'\n",
    "dfUK = pd.read_json(url)\n",
    "# dfUK.head(10)\n",
    "no_pages=dfUK['response']['pages']\n",
    "for x in range(1,no_pages+1):\n",
    "    url='https://content.guardianapis.com/search?production-office=UK&from-date=2021-01-01&page='+str(x)+'&q=sars-cov-2%20or%20covid&api-key=7543a311-cd3a-4e89-b3c9-05a1c027fe0e'\n",
    "    df = pd.read_json(url)\n",
    "    df_nested_list = pd.json_normalize(df['response']['results'])\n",
    "    appended_dataUK.append(df_nested_list)\n",
    "    \n",
    "appended_dataUK = pd.concat(appended_dataUK) "
   ]
  },
  {
   "cell_type": "code",
   "execution_count": 12,
   "metadata": {},
   "outputs": [
    {
     "name": "stderr",
     "output_type": "stream",
     "text": [
      "<ipython-input-12-c7d74406b703>:2: SettingWithCopyWarning: \n",
      "A value is trying to be set on a copy of a slice from a DataFrame.\n",
      "Try using .loc[row_indexer,col_indexer] = value instead\n",
      "\n",
      "See the caveats in the documentation: https://pandas.pydata.org/pandas-docs/stable/user_guide/indexing.html#returning-a-view-versus-a-copy\n",
      "  uk_data['Article Date']=list(map(lambda x: datetime.strptime(x,'%Y-%m-%dT%H:%M:%SZ').strftime('%d/%m/%Y'), uk_data['webPublicationDate']))\n",
      "<ipython-input-12-c7d74406b703>:3: SettingWithCopyWarning: \n",
      "A value is trying to be set on a copy of a slice from a DataFrame.\n",
      "Try using .loc[row_indexer,col_indexer] = value instead\n",
      "\n",
      "See the caveats in the documentation: https://pandas.pydata.org/pandas-docs/stable/user_guide/indexing.html#returning-a-view-versus-a-copy\n",
      "  uk_data['Country']='UK'\n"
     ]
    }
   ],
   "source": [
    "uk_data=appended_dataUK[['type','sectionName','webPublicationDate','pillarName']]\n",
    "uk_data['Article Date']=list(map(lambda x: datetime.strptime(x,'%Y-%m-%dT%H:%M:%SZ').strftime('%d/%m/%Y'), uk_data['webPublicationDate']))\n",
    "uk_data['Country']='UK'\n",
    "uk_daily_reports=uk_data.groupby(uk_data['Article Date']).count()\n"
   ]
  },
  {
   "cell_type": "code",
   "execution_count": 9,
   "metadata": {},
   "outputs": [],
   "source": [
    "appended_data = []\n",
    "url='https://content.guardianapis.com/search?production-office=AUS&from-date=2021-01-01&page=1&q=sars-cov-2%20or%20covid&api-key=7543a311-cd3a-4e89-b3c9-05a1c027fe0e'\n",
    "dfAUS = pd.read_json(url)\n",
    "# dfUK.head(10)\n",
    "no_pagesAus=dfAUS['response']['pages']\n",
    "for x in range(1,no_pagesAus+1):\n",
    "    url='https://content.guardianapis.com/search?production-office=AUS&from-date=2021-01-01&page='+str(x)+'&q=sars-cov-2%20or%20covid&api-key=7543a311-cd3a-4e89-b3c9-05a1c027fe0e'\n",
    "    df1 = pd.read_json(url)\n",
    "    df_nested_listAUS = pd.json_normalize(df1['response']['results'])\n",
    "    appended_data.append(df_nested_listAUS)\n",
    "\n",
    "appended_data = pd.concat(appended_data)  "
   ]
  },
  {
   "cell_type": "code",
   "execution_count": 10,
   "metadata": {},
   "outputs": [
    {
     "name": "stderr",
     "output_type": "stream",
     "text": [
      "<ipython-input-10-4c07a3899a03>:2: SettingWithCopyWarning: \n",
      "A value is trying to be set on a copy of a slice from a DataFrame.\n",
      "Try using .loc[row_indexer,col_indexer] = value instead\n",
      "\n",
      "See the caveats in the documentation: https://pandas.pydata.org/pandas-docs/stable/user_guide/indexing.html#returning-a-view-versus-a-copy\n",
      "  aus_data['Article Date']=list(map(lambda x: datetime.strptime(x,'%Y-%m-%dT%H:%M:%SZ').strftime('%d/%m/%Y'), aus_data['webPublicationDate']))\n",
      "<ipython-input-10-4c07a3899a03>:3: SettingWithCopyWarning: \n",
      "A value is trying to be set on a copy of a slice from a DataFrame.\n",
      "Try using .loc[row_indexer,col_indexer] = value instead\n",
      "\n",
      "See the caveats in the documentation: https://pandas.pydata.org/pandas-docs/stable/user_guide/indexing.html#returning-a-view-versus-a-copy\n",
      "  aus_data['Country']='AUS'\n"
     ]
    }
   ],
   "source": [
    "aus_data=appended_data[['type','sectionName','webPublicationDate','pillarName']]\n",
    "aus_data['Article Date']=list(map(lambda x: datetime.strptime(x,'%Y-%m-%dT%H:%M:%SZ').strftime('%d/%m/%Y'), aus_data['webPublicationDate']))\n",
    "aus_data['Country']='AUS'\n",
    "aus_daily_reports=aus_data.groupby(aus_data['Article Date']).count()\n"
   ]
  },
  {
   "cell_type": "markdown",
   "metadata": {},
   "source": [
    "### 2.4 Visualisation"
   ]
  },
  {
   "cell_type": "code",
   "execution_count": 13,
   "metadata": {},
   "outputs": [
    {
     "data": {
      "text/plain": [
       "<AxesSubplot:xlabel='Country'>"
      ]
     },
     "execution_count": 13,
     "metadata": {},
     "output_type": "execute_result"
    },
    {
     "data": {
      "image/png": "[encoded data removed]",
      "text/plain": [
       "<Figure size 432x288 with 1 Axes>"
      ]
     },
     "metadata": {
      "needs_background": "light"
     },
     "output_type": "display_data"
    }
   ],
   "source": [
    "# Visualise the results\n",
    "df_combined=[]\n",
    "df_combined.append(aus_data)\n",
    "df_combined.append(uk_data)\n",
    "df_combined = pd.concat(df_combined) \n",
    "articles_per_country=df_combined.groupby(df_combined['Country'])['type'].count()\n",
    "articles_per_country\n",
    "articles_per_country.plot.bar()"
   ]
  },
  {
   "cell_type": "markdown",
   "metadata": {},
   "source": [
    "### 2.5 Insight"
   ]
  },
  {
   "cell_type": "code",
   "execution_count": 29,
   "metadata": {},
   "outputs": [],
   "source": [
    "The UK has many more headlines on COVID compared to Australia. "
   ]
  }
 ],
 "metadata": {
  "kernelspec": {
   "display_name": "Python 3",
   "language": "python",
   "name": "python3"
  },
  "language_info": {
   "codemirror_mode": {
    "name": "ipython",
    "version": 3
   },
   "file_extension": ".py",
   "mimetype": "text/x-python",
   "name": "python",
   "nbconvert_exporter": "python",
   "pygments_lexer": "ipython3",
   "version": "3.8.5"
  }
 },
 "nbformat": 4,
 "nbformat_minor": 5
}
